{
 "cells": [
  {
   "cell_type": "code",
   "execution_count": null,
   "metadata": {},
   "outputs": [],
   "source": [
    "import os\n",
    "import sys\n",
    "\n",
    "sys.path.append(\".\")\n",
    "os.environ.setdefault(\"LOGGER_LEVEL\", \"INFO\")\n",
    "os.environ.setdefault(\"LOGGER_SERIALIZE\", \"\")\n",
    "os.environ.setdefault(\"DJANGO_ALLOW_ASYNC_UNSAFE\", \"true\")\n",
    "os.environ.setdefault(\"DJANGO_SETTINGS_MODULE\", \"backend.settings\")\n",
    "\n",
    "import django\n",
    "\n",
    "django.setup()\n",
    "\n",
    "import IPython\n",
    "\n",
    "IPython.display.clear_output()\n",
    "\n",
    "from backend.apps.api.v1.models import (\n",
    "    Column as C,\n",
    "    Coverage as CV,\n",
    "    Dataset as D,\n",
    "    DateTimeRange as DT,\n",
    "    Table as T,\n",
    ")"
   ]
  },
  {
   "cell_type": "code",
   "execution_count": null,
   "metadata": {},
   "outputs": [],
   "source": [
    "..."
   ]
  }
 ],
 "metadata": {
  "kernelspec": {
   "display_name": "bd-api-gDXRrbWm-py3.11",
   "language": "python",
   "name": "python3"
  },
  "language_info": {
   "codemirror_mode": {
    "name": "ipython",
    "version": 3
   },
   "file_extension": ".py",
   "mimetype": "text/x-python",
   "name": "python",
   "nbconvert_exporter": "python",
   "pygments_lexer": "ipython3",
   "version": "3.11.6"
  }
 },
 "nbformat": 4,
 "nbformat_minor": 2
}
